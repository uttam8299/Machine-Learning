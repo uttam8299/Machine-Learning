{
 "cells": [
  {
   "cell_type": "markdown",
   "metadata": {},
   "source": [
    "# Question 1"
   ]
  },
  {
   "cell_type": "code",
   "execution_count": 2,
   "metadata": {},
   "outputs": [
    {
     "ename": "UnsupportedOperation",
     "evalue": "not writable",
     "output_type": "error",
     "traceback": [
      "\u001b[1;31m---------------------------------------------------------------------------\u001b[0m",
      "\u001b[1;31mUnsupportedOperation\u001b[0m                      Traceback (most recent call last)",
      "\u001b[1;32m<ipython-input-2-3ad22f92a601>\u001b[0m in \u001b[0;36m<module>\u001b[1;34m\u001b[0m\n\u001b[0;32m      7\u001b[0m \u001b[1;33m\u001b[0m\u001b[0m\n\u001b[0;32m      8\u001b[0m \u001b[0mfile\u001b[0m \u001b[1;33m=\u001b[0m \u001b[0mopen\u001b[0m\u001b[1;33m(\u001b[0m\u001b[1;34m\"LetsUpgrade.txt\"\u001b[0m\u001b[1;33m,\u001b[0m\u001b[1;34m'r'\u001b[0m\u001b[1;33m)\u001b[0m\u001b[1;33m\u001b[0m\u001b[1;33m\u001b[0m\u001b[0m\n\u001b[1;32m----> 9\u001b[1;33m \u001b[0mfile\u001b[0m\u001b[1;33m.\u001b[0m\u001b[0mwrite\u001b[0m\u001b[1;33m(\u001b[0m\u001b[1;34m\"Hey!LetsUpgrade\"\u001b[0m\u001b[1;33m)\u001b[0m\u001b[1;33m\u001b[0m\u001b[1;33m\u001b[0m\u001b[0m\n\u001b[0m\u001b[0;32m     10\u001b[0m \u001b[0mprint\u001b[0m\u001b[1;33m(\u001b[0m\u001b[0mfile\u001b[0m\u001b[1;33m.\u001b[0m\u001b[0mread\u001b[0m\u001b[1;33m(\u001b[0m\u001b[1;33m)\u001b[0m\u001b[1;33m)\u001b[0m\u001b[1;33m\u001b[0m\u001b[1;33m\u001b[0m\u001b[0m\n\u001b[0;32m     11\u001b[0m \u001b[0mfile\u001b[0m\u001b[1;33m.\u001b[0m\u001b[0mclose\u001b[0m\u001b[1;33m(\u001b[0m\u001b[1;33m)\u001b[0m\u001b[1;33m\u001b[0m\u001b[1;33m\u001b[0m\u001b[0m\n",
      "\u001b[1;31mUnsupportedOperation\u001b[0m: not writable"
     ]
    }
   ],
   "source": [
    "# Created new file\n",
    "file = open(\"LetsUpgrade.txt\",'w')\n",
    "file.write(\"I am learning python with LetsUpgrade\")\n",
    "file.close()\n",
    "\n",
    "# Opening file in read mode\n",
    "\n",
    "file = open(\"LetsUpgrade.txt\",'r')\n",
    "file.write(\"Hey!LetsUpgrade\")\n",
    "print(file.read())\n",
    "file.close()\n"
   ]
  },
  {
   "cell_type": "code",
   "execution_count": 3,
   "metadata": {},
   "outputs": [
    {
     "name": "stdout",
     "output_type": "stream",
     "text": [
      "I am learning python with LetsUpgrade\n",
      "File gave error :  not writable\n"
     ]
    }
   ],
   "source": [
    "#Previously written content in file\n",
    "file = open(\"LetsUpgrade.txt\",'r')\n",
    "print(file.read())\n",
    "\n",
    "#Trying to write new content in read mode only\n",
    "# Error occurs ,so handling errors using try,except and finally\n",
    "\n",
    "try:\n",
    "    file = open(\"LetsUpgrade.txt\",'r')\n",
    "    file.write(\"Hey!LetsUpgrade\")\n",
    "    print(file.read())\n",
    "except Exception as e:\n",
    "    print(\"File gave error : \",e)\n",
    "finally:\n",
    "    file.close()"
   ]
  },
  {
   "cell_type": "markdown",
   "metadata": {},
   "source": [
    "# Question 2"
   ]
  },
  {
   "cell_type": "code",
   "execution_count": 42,
   "metadata": {},
   "outputs": [],
   "source": [
    "def prime_number(num):\n",
    "    flag = 0\n",
    "    if num == 0 and num == 1:\n",
    "        print(\"Number is not prime number\")\n",
    "    else:\n",
    "        for i in range(2,num//2):\n",
    "            if num%i == 0:\n",
    "                print(num, \"is not a prime number\")\n",
    "                flag = 1\n",
    "                break\n",
    "        if flag == 0:\n",
    "            print(num, \"is prime number\")\n",
    "            "
   ]
  },
  {
   "cell_type": "code",
   "execution_count": 43,
   "metadata": {},
   "outputs": [
    {
     "name": "stdout",
     "output_type": "stream",
     "text": [
      "17 is prime number\n"
     ]
    }
   ],
   "source": [
    "prime_number(17)"
   ]
  },
  {
   "cell_type": "code",
   "execution_count": 44,
   "metadata": {},
   "outputs": [
    {
     "name": "stdout",
     "output_type": "stream",
     "text": [
      "49 is not a prime number\n"
     ]
    }
   ],
   "source": [
    "prime_number(49)"
   ]
  },
  {
   "cell_type": "code",
   "execution_count": 72,
   "metadata": {},
   "outputs": [
    {
     "name": "stdout",
     "output_type": "stream",
     "text": [
      "Overwriting prime_number_finder.py\n"
     ]
    }
   ],
   "source": [
    "%%writefile prime_number_finder.py\n",
    "\n",
    "def prime_number(num):\n",
    "    '''\n",
    "    Send a number to search for prime or not.\n",
    "    '''\n",
    "    flag = 0\n",
    "    if num == 0 and num == 1:\n",
    "        print(\"Number is not prime number\")\n",
    "    else:\n",
    "        for i in range(2, num//2):\n",
    "            if num%i == 0:\n",
    "                print(num, \" is not a prime number\")\n",
    "                flag = 1\n",
    "                break\n",
    "        if flag == 0:\n",
    "            print(num, \" is prime number\")"
   ]
  },
  {
   "cell_type": "code",
   "execution_count": 73,
   "metadata": {},
   "outputs": [
    {
     "name": "stdout",
     "output_type": "stream",
     "text": [
      "************* Module prime_number_finder\n",
      "prime_number_finder.py:1:0: C0114: Missing module docstring (missing-module-docstring)\n",
      "\n",
      "------------------------------------------------------------------\n",
      "\n",
      "Your code has been rated at 9.09/10 (previous run: 7.50/10, +1.59)\n",
      "\n",
      "\n",
      "\n"
     ]
    }
   ],
   "source": [
    "! pylint prime_number_finder.py"
   ]
  },
  {
   "cell_type": "code",
   "execution_count": 74,
   "metadata": {},
   "outputs": [
    {
     "name": "stdout",
     "output_type": "stream",
     "text": [
      "Overwriting unittest_of_prime_number.py\n"
     ]
    }
   ],
   "source": [
    "%%writefile unittest_of_prime_number.py\n",
    "import unittest\n",
    "import prime_number_finder\n",
    "\n",
    "class Test(unittest.TestCase):\n",
    "    def test_number(self):\n",
    "        self.assertTrue(prime_number_finder.prime_number(17))\n",
    "if __name__ == '__main__':\n",
    "    unittest.main()"
   ]
  },
  {
   "cell_type": "code",
   "execution_count": 75,
   "metadata": {},
   "outputs": [
    {
     "name": "stdout",
     "output_type": "stream",
     "text": [
      "************* Module unittest_of_prime_number\n",
      "unittest_of_prime_number.py:1:0: C0114: Missing module docstring (missing-module-docstring)\n",
      "unittest_of_prime_number.py:4:0: C0115: Missing class docstring (missing-class-docstring)\n",
      "unittest_of_prime_number.py:5:4: C0116: Missing function or method docstring (missing-function-docstring)\n",
      "\n",
      "------------------------------------------------------------------\n",
      "\n",
      "Your code has been rated at 5.71/10 (previous run: 5.71/10, +0.00)\n",
      "\n",
      "\n",
      "\n"
     ]
    }
   ],
   "source": [
    "! pylint unittest_of_prime_number.py"
   ]
  },
  {
   "cell_type": "code",
   "execution_count": null,
   "metadata": {},
   "outputs": [],
   "source": []
  }
 ],
 "metadata": {
  "kernelspec": {
   "display_name": "Python 3",
   "language": "python",
   "name": "python3"
  },
  "language_info": {
   "codemirror_mode": {
    "name": "ipython",
    "version": 3
   },
   "file_extension": ".py",
   "mimetype": "text/x-python",
   "name": "python",
   "nbconvert_exporter": "python",
   "pygments_lexer": "ipython3",
   "version": "3.7.4"
  }
 },
 "nbformat": 4,
 "nbformat_minor": 2
}
