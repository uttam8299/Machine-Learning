{
 "cells": [
  {
   "cell_type": "code",
   "execution_count": 4,
   "metadata": {},
   "outputs": [
    {
     "name": "stdout",
     "output_type": "stream",
     "text": [
      "I will go\n",
      "Say hello\n"
     ]
    }
   ],
   "source": [
    "#IF ELIF and ELSE\n",
    "\n",
    "corona = True\n",
    "if corona==False:\n",
    "    print(\"I will not go to college\")\n",
    "else:\n",
    "    print(\"I will go\")\n",
    "\n",
    "hi = \"hello\"\n",
    "if hi==\"hello\":\n",
    "    print(\"Say hello\")\n",
    "elif hi==\"bye\":\n",
    "    print(\"Bye\")\n",
    "else:\n",
    "    print(\"Don't know\")\n"
   ]
  },
  {
   "cell_type": "code",
   "execution_count": null,
   "metadata": {},
   "outputs": [],
   "source": [
    "hii = input(\"Enter\")"
   ]
  },
  {
   "cell_type": "code",
   "execution_count": null,
   "metadata": {},
   "outputs": [],
   "source": [
    "# How to get input from user"
   ]
  },
  {
   "cell_type": "code",
   "execution_count": 1,
   "metadata": {},
   "outputs": [
    {
     "name": "stdout",
     "output_type": "stream",
     "text": [
      "Enter something:uttam\n",
      "hello  uttam\n"
     ]
    }
   ],
   "source": [
    "inputText = input(\"Enter something:\")\n",
    "print(\"hello \" , inputText)"
   ]
  },
  {
   "cell_type": "markdown",
   "metadata": {},
   "source": [
    "# For loop"
   ]
  },
  {
   "cell_type": "code",
   "execution_count": null,
   "metadata": {},
   "outputs": [],
   "source": [
    "for i in range(200):\n",
    "    print(\"Usain bolt is running at \" ,i)\n",
    "else:\n",
    "    print(\"***************-------------------***************\")\n",
    "    print(\"Touched finish line\")\n",
    "    print(\"***************-------------------***************\")"
   ]
  },
  {
   "cell_type": "code",
   "execution_count": null,
   "metadata": {},
   "outputs": [],
   "source": [
    "# What is range() function?\n",
    "\n",
    "# The range() function is used to generate a sequence of numbers over time. At its simplest, it accepts an integer and returns a range object (a type of iterable)"
   ]
  },
  {
   "cell_type": "code",
   "execution_count": null,
   "metadata": {},
   "outputs": [],
   "source": [
    "# how range function works?"
   ]
  },
  {
   "cell_type": "code",
   "execution_count": null,
   "metadata": {},
   "outputs": [],
   "source": [
    "lst = list(range(1,22))"
   ]
  },
  {
   "cell_type": "code",
   "execution_count": null,
   "metadata": {},
   "outputs": [],
   "source": [
    "lst"
   ]
  },
  {
   "cell_type": "markdown",
   "metadata": {},
   "source": [
    "# While loop"
   ]
  },
  {
   "cell_type": "code",
   "execution_count": null,
   "metadata": {},
   "outputs": [],
   "source": [
    "coronaThere = True\n",
    "\n",
    "while coronaThere == True:\n",
    "    print(\"Go corona\")\n",
    "    abc = input(\"Enter the ststus of corona - \")\n",
    "    if abc[0].lower == \"y\":\n",
    "        coronaThere = False\n",
    "        print(\"Now Go\")"
   ]
  },
  {
   "cell_type": "markdown",
   "metadata": {},
   "source": [
    "# BREAK PASS AND CONTINUE"
   ]
  },
  {
   "cell_type": "code",
   "execution_count": 3,
   "metadata": {},
   "outputs": [
    {
     "name": "stdout",
     "output_type": "stream",
     "text": [
      "Number  1\n",
      "Number  2\n",
      "Number  3\n"
     ]
    }
   ],
   "source": [
    "# break\n",
    "\n",
    "for i in range(1,10):\n",
    "    if(i == 4):\n",
    "        break\n",
    "    print(\"Number \" ,i)"
   ]
  },
  {
   "cell_type": "code",
   "execution_count": 4,
   "metadata": {},
   "outputs": [
    {
     "name": "stdout",
     "output_type": "stream",
     "text": [
      "Number  1\n",
      "Number  2\n",
      "Number  3\n",
      "Number  5\n",
      "Number  6\n",
      "Number  7\n",
      "Number  8\n",
      "Number  9\n"
     ]
    }
   ],
   "source": [
    "# continue\n",
    "\n",
    "for i in range(1,10):\n",
    "    if(i == 4):\n",
    "        continue\n",
    "    print(\"Number \" ,i)"
   ]
  },
  {
   "cell_type": "code",
   "execution_count": 5,
   "metadata": {},
   "outputs": [],
   "source": [
    "# pass\n",
    "\n",
    "for i in range(1,10):\n",
    "    pass\n",
    "    # dnt know what to write right now \n",
    "    # but this loop has to be there\n",
    "    # pass is used as a placeholder just make sure our program don't give errors\n",
    "    "
   ]
  },
  {
   "cell_type": "code",
   "execution_count": 6,
   "metadata": {},
   "outputs": [],
   "source": [
    "# how to generate random number in Python"
   ]
  },
  {
   "cell_type": "markdown",
   "metadata": {},
   "source": [
    "# File Handling"
   ]
  },
  {
   "cell_type": "code",
   "execution_count": 7,
   "metadata": {},
   "outputs": [],
   "source": [
    "#Why,how and what?"
   ]
  },
  {
   "cell_type": "code",
   "execution_count": 8,
   "metadata": {},
   "outputs": [],
   "source": [
    "# 1. Creating file\n",
    "# 2. Opening existing file\n",
    "# 3. Reading data from file\n",
    "# 4.\n",
    "# 5. "
   ]
  },
  {
   "cell_type": "code",
   "execution_count": 10,
   "metadata": {},
   "outputs": [],
   "source": [
    "# Lets create a new File\n",
    "\n",
    "file = open(\"FCS.txt\",'w')"
   ]
  },
  {
   "cell_type": "code",
   "execution_count": 11,
   "metadata": {},
   "outputs": [
    {
     "name": "stdout",
     "output_type": "stream",
     "text": [
      "<_io.TextIOWrapper name='FCS.txt' mode='w' encoding='cp1252'>\n"
     ]
    }
   ],
   "source": [
    "print(file)"
   ]
  },
  {
   "cell_type": "code",
   "execution_count": 14,
   "metadata": {},
   "outputs": [],
   "source": [
    "# how to write anything in file\n",
    "\n",
    "file = open(\"FCS.txt\",'w')\n",
    "file.write(\"Hello I am learning python\")\n",
    "\n",
    "# close file\n",
    "file.close()"
   ]
  },
  {
   "cell_type": "code",
   "execution_count": 16,
   "metadata": {},
   "outputs": [
    {
     "name": "stdout",
     "output_type": "stream",
     "text": [
      "Hello I am learning python\n"
     ]
    }
   ],
   "source": [
    "# how to read from a file\n",
    "file = open(\"FCS.txt\",'r')\n",
    "txt = file.read()\n",
    "print(txt)\n",
    "file.close()"
   ]
  },
  {
   "cell_type": "code",
   "execution_count": 17,
   "metadata": {},
   "outputs": [
    {
     "name": "stdout",
     "output_type": "stream",
     "text": [
      "27\n"
     ]
    }
   ],
   "source": [
    "# how to add new line to a file\n",
    "\n",
    "file = open(\"FCS.txt\",'a')\n",
    "txt = file.write(\"\\n\\n I am appending in a file\")\n",
    "print(txt)\n",
    "file.close()"
   ]
  },
  {
   "cell_type": "code",
   "execution_count": 18,
   "metadata": {},
   "outputs": [
    {
     "name": "stdout",
     "output_type": "stream",
     "text": [
      "Hello I am learning python\n",
      "\n",
      " I am appending in a file\n"
     ]
    }
   ],
   "source": [
    "# how to read from a file\n",
    "file = open(\"FCS.txt\",'r')\n",
    "txt = file.read()\n",
    "print(txt)\n",
    "file.close()"
   ]
  },
  {
   "cell_type": "code",
   "execution_count": 20,
   "metadata": {},
   "outputs": [],
   "source": [
    "# lets use with() function"
   ]
  },
  {
   "cell_type": "code",
   "execution_count": 21,
   "metadata": {},
   "outputs": [
    {
     "name": "stdout",
     "output_type": "stream",
     "text": [
      "Hello I am learning python\n",
      "\n",
      " I am appending in a file\n"
     ]
    }
   ],
   "source": [
    "with open(\"FCS.txt\",'r') as f:\n",
    "    print(f.read())\n",
    "    "
   ]
  },
  {
   "cell_type": "code",
   "execution_count": null,
   "metadata": {},
   "outputs": [],
   "source": []
  }
 ],
 "metadata": {
  "kernelspec": {
   "display_name": "Python 3",
   "language": "python",
   "name": "python3"
  },
  "language_info": {
   "codemirror_mode": {
    "name": "ipython",
    "version": 3
   },
   "file_extension": ".py",
   "mimetype": "text/x-python",
   "name": "python",
   "nbconvert_exporter": "python",
   "pygments_lexer": "ipython3",
   "version": "3.7.4"
  }
 },
 "nbformat": 4,
 "nbformat_minor": 2
}
