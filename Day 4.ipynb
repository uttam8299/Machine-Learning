{
 "cells": [
  {
   "cell_type": "markdown",
   "metadata": {},
   "source": [
    "# Methods"
   ]
  },
  {
   "cell_type": "code",
   "execution_count": 4,
   "metadata": {},
   "outputs": [],
   "source": [
    "lst = [1,2,3,4,5,6]"
   ]
  },
  {
   "cell_type": "code",
   "execution_count": 5,
   "metadata": {},
   "outputs": [],
   "source": [
    "lst.append(12)"
   ]
  },
  {
   "cell_type": "code",
   "execution_count": 6,
   "metadata": {},
   "outputs": [
    {
     "name": "stdout",
     "output_type": "stream",
     "text": [
      "Help on built-in function append:\n",
      "\n",
      "append(object, /) method of builtins.list instance\n",
      "    Append object to the end of the list.\n",
      "\n"
     ]
    }
   ],
   "source": [
    "help(lst.append)"
   ]
  },
  {
   "cell_type": "code",
   "execution_count": 7,
   "metadata": {},
   "outputs": [],
   "source": [
    "dit = {\"key1\":1,\"key2\":2}"
   ]
  },
  {
   "cell_type": "code",
   "execution_count": 8,
   "metadata": {},
   "outputs": [
    {
     "data": {
      "text/plain": [
       "{'key1': 1, 'key2': 2}"
      ]
     },
     "execution_count": 8,
     "metadata": {},
     "output_type": "execute_result"
    }
   ],
   "source": [
    "dit"
   ]
  },
  {
   "cell_type": "markdown",
   "metadata": {},
   "source": [
    "# Functions"
   ]
  },
  {
   "cell_type": "code",
   "execution_count": 17,
   "metadata": {},
   "outputs": [],
   "source": [
    "# 1. We use functions for breaking the big piece of code to small manageable codes.\n",
    "# 2. We use functions for code reusability\n",
    "# 3. We use functions for reducing down the memory usage.\n",
    "# 4. We use functions for reducing time and efforts"
   ]
  },
  {
   "cell_type": "code",
   "execution_count": 25,
   "metadata": {},
   "outputs": [],
   "source": [
    "# How to write our first functuon in Python\n",
    "\n",
    "def someFunction():\n",
    "    '''\n",
    "    This is simple function\n",
    "    '''\n",
    "    print(\"Hey Hi I am learning on \")\n",
    "    print(\"I am another line from the code\")"
   ]
  },
  {
   "cell_type": "code",
   "execution_count": 26,
   "metadata": {},
   "outputs": [
    {
     "name": "stdout",
     "output_type": "stream",
     "text": [
      "Hey Hi I am learning on \n",
      "I am another line from the code\n"
     ]
    }
   ],
   "source": [
    "someFunction()"
   ]
  },
  {
   "cell_type": "code",
   "execution_count": 27,
   "metadata": {},
   "outputs": [
    {
     "data": {
      "text/plain": [
       "<function __main__.someFunction()>"
      ]
     },
     "execution_count": 27,
     "metadata": {},
     "output_type": "execute_result"
    }
   ],
   "source": [
    "# If no parentheses then it prints address of function from the memory\n",
    "someFunction"
   ]
  },
  {
   "cell_type": "code",
   "execution_count": 28,
   "metadata": {},
   "outputs": [
    {
     "name": "stdout",
     "output_type": "stream",
     "text": [
      "Help on function someFunction in module __main__:\n",
      "\n",
      "someFunction()\n",
      "    This is simple function\n",
      "\n"
     ]
    }
   ],
   "source": [
    "help(someFunction)"
   ]
  },
  {
   "cell_type": "code",
   "execution_count": 33,
   "metadata": {},
   "outputs": [],
   "source": [
    "# Function with argument\n",
    "\n",
    "def someFunction(arg1,arg2):\n",
    "    '''\n",
    "    This is simple function\n",
    "    '''\n",
    "    print(\"Hey \" + arg1 + \" Hi \" + arg2 + \" I am learning on \")\n",
    "    print(\"LetsUpgrade\")"
   ]
  },
  {
   "cell_type": "code",
   "execution_count": 34,
   "metadata": {},
   "outputs": [
    {
     "name": "stdout",
     "output_type": "stream",
     "text": [
      "Hey Bob Hi Jack I am learning on \n",
      "LetsUpgrade\n"
     ]
    }
   ],
   "source": [
    "someFunction(\"Bob\",\"Jack\")"
   ]
  },
  {
   "cell_type": "code",
   "execution_count": 41,
   "metadata": {},
   "outputs": [],
   "source": [
    "# Function returning value\n",
    "\n",
    "def playMySong(songNo):\n",
    "    if(songNo == 1):\n",
    "        return \"Shape of You\"\n",
    "    elif songNo== 2:\n",
    "        return \"Cham Cham\"\n",
    "    elif songNo == 3:\n",
    "        return \"Humma Humma\"\n",
    "    elif songNo == 4:\n",
    "        return \"Lollipop\"\n",
    "    else:\n",
    "        print(\"Listen to Faded\")"
   ]
  },
  {
   "cell_type": "code",
   "execution_count": 42,
   "metadata": {},
   "outputs": [
    {
     "name": "stdout",
     "output_type": "stream",
     "text": [
      "Listen to Faded\n"
     ]
    }
   ],
   "source": [
    "playMySong(5)"
   ]
  },
  {
   "cell_type": "code",
   "execution_count": 43,
   "metadata": {},
   "outputs": [
    {
     "data": {
      "text/plain": [
       "'Humma Humma'"
      ]
     },
     "execution_count": 43,
     "metadata": {},
     "output_type": "execute_result"
    }
   ],
   "source": [
    "playMySong(3)"
   ]
  },
  {
   "cell_type": "code",
   "execution_count": 52,
   "metadata": {},
   "outputs": [],
   "source": [
    "from random import randint\n",
    "def getUsARandomOddNumber():\n",
    "    value = randint(2,100)\n",
    "    if value % 2 == 0:\n",
    "        value = value -1\n",
    "    return value"
   ]
  },
  {
   "cell_type": "code",
   "execution_count": 53,
   "metadata": {},
   "outputs": [
    {
     "data": {
      "text/plain": [
       "45"
      ]
     },
     "execution_count": 53,
     "metadata": {},
     "output_type": "execute_result"
    }
   ],
   "source": [
    "getUsARandomOddNumber()"
   ]
  },
  {
   "cell_type": "code",
   "execution_count": 54,
   "metadata": {},
   "outputs": [],
   "source": [
    "def multiplyTwoRandomNumber():\n",
    "    val1 = getUsARandomOddNumber()\n",
    "    val2 = getUsARandomOddNumber()\n",
    "    print(val1,\" \",val2)\n",
    "    return val1*val2"
   ]
  },
  {
   "cell_type": "code",
   "execution_count": 55,
   "metadata": {},
   "outputs": [
    {
     "name": "stdout",
     "output_type": "stream",
     "text": [
      "85   49\n"
     ]
    },
    {
     "data": {
      "text/plain": [
       "4165"
      ]
     },
     "execution_count": 55,
     "metadata": {},
     "output_type": "execute_result"
    }
   ],
   "source": [
    "multiplyTwoRandomNumber()"
   ]
  },
  {
   "cell_type": "code",
   "execution_count": 56,
   "metadata": {},
   "outputs": [
    {
     "name": "stdout",
     "output_type": "stream",
     "text": [
      "37   29\n"
     ]
    },
    {
     "data": {
      "text/plain": [
       "1073"
      ]
     },
     "execution_count": 56,
     "metadata": {},
     "output_type": "execute_result"
    }
   ],
   "source": [
    "multiplyTwoRandomNumber()"
   ]
  },
  {
   "cell_type": "code",
   "execution_count": 57,
   "metadata": {},
   "outputs": [
    {
     "name": "stdout",
     "output_type": "stream",
     "text": [
      "93   37\n"
     ]
    },
    {
     "data": {
      "text/plain": [
       "3441"
      ]
     },
     "execution_count": 57,
     "metadata": {},
     "output_type": "execute_result"
    }
   ],
   "source": [
    "multiplyTwoRandomNumber()"
   ]
  },
  {
   "cell_type": "markdown",
   "metadata": {},
   "source": [
    "# *args and *kwargs"
   ]
  },
  {
   "cell_type": "code",
   "execution_count": 66,
   "metadata": {},
   "outputs": [],
   "source": [
    "# IF you wish to take N number of Arguments in the python function,\n",
    "# how to do it\n",
    "\n",
    "def takeNArg(*args):\n",
    "    for i in args:\n",
    "        print(\"Arguments which we got \" ,i)\n",
    "    "
   ]
  },
  {
   "cell_type": "code",
   "execution_count": 67,
   "metadata": {},
   "outputs": [
    {
     "name": "stdout",
     "output_type": "stream",
     "text": [
      "Arguments which we got  Hii\n",
      "Arguments which we got  [1, 2, 30]\n",
      "Arguments which we got  {'key1': 23, 'key2': 14}\n",
      "Arguments which we got  LetsUpgrade\n"
     ]
    }
   ],
   "source": [
    "takeNArg(\"Hii\",[1,2,30],{\"key1\":23,\"key2\" : 14},\"LetsUpgrade\")"
   ]
  },
  {
   "cell_type": "code",
   "execution_count": 75,
   "metadata": {},
   "outputs": [],
   "source": [
    "# If u want to pass multiple arguments into the function\n",
    "#But want to have a variable name for each one of the arguments a\n",
    "# just like how we use in Dict\n",
    "# then we should look at **kwargs\n",
    "\n",
    "def takeKwargs(**kwargs):\n",
    "    for key,value in kwargs.items():\n",
    "        print(\"The key - \",key,\" | \",\" The value - \",value)\n",
    "        "
   ]
  },
  {
   "cell_type": "code",
   "execution_count": 76,
   "metadata": {},
   "outputs": [
    {
     "name": "stdout",
     "output_type": "stream",
     "text": [
      "The key -  name  |   The value -  Uttam\n",
      "The key -  age  |   The value -  2\n",
      "The key -  dob  |   The value -  1999\n"
     ]
    }
   ],
   "source": [
    "takeKwargs(name=\"Uttam\" ,age = 2,dob = \"1999\")"
   ]
  },
  {
   "cell_type": "code",
   "execution_count": 77,
   "metadata": {},
   "outputs": [],
   "source": [
    "# * args - used to pass multiple values \n",
    "# **kwargs - used for passing multiple key values pair to make sure\n",
    "# you can access any value with a name"
   ]
  },
  {
   "cell_type": "code",
   "execution_count": 79,
   "metadata": {},
   "outputs": [],
   "source": [
    "# Probelem Statement 1 is - \n",
    "# build a function for sending mails to a specific ids given  in a argument\n",
    "\n",
    "def sendEmails(*emailList):\n",
    "    for emails in emailList:\n",
    "        print(\"Emails is been sent to -  \" ,emails)"
   ]
  },
  {
   "cell_type": "code",
   "execution_count": 81,
   "metadata": {},
   "outputs": [
    {
     "name": "stdout",
     "output_type": "stream",
     "text": [
      "Emails is been sent to -   abc@gmail.com\n",
      "Emails is been sent to -   qwerty@gmail.com\n",
      "Emails is been sent to -   xyz@gmail.com\n"
     ]
    }
   ],
   "source": [
    "sendEmails(\"abc@gmail.com\",\"qwerty@gmail.com\",\"xyz@gmail.com\")"
   ]
  },
  {
   "cell_type": "code",
   "execution_count": 82,
   "metadata": {},
   "outputs": [],
   "source": [
    "# Probelem Statement 2 is-  \n",
    "# Print the names,age and dob of the students in a  formatted way\n",
    "\n",
    "# like\n",
    "\n",
    "#----------\n",
    "#|Name -    |\n",
    "#|Age -     |\n",
    "#|DOB -     |"
   ]
  },
  {
   "cell_type": "code",
   "execution_count": 87,
   "metadata": {},
   "outputs": [],
   "source": [
    "def StudData(**StudentInfo):\n",
    "    print(\"--------\")\n",
    "    print(\"Name - \",StudentInfo.get(\"name\"))\n",
    "    print(\"Age - \",StudentInfo.get(\"age\"))\n",
    "    print(\"DOB - \",StudentInfo.get(\"dob\"))\n",
    "    print(\"--------\")\n",
    "    \n",
    "    "
   ]
  },
  {
   "cell_type": "code",
   "execution_count": 88,
   "metadata": {},
   "outputs": [
    {
     "name": "stdout",
     "output_type": "stream",
     "text": [
      "--------\n",
      "Name -  Uttam\n",
      "Age -  21\n",
      "DOB -  1999\n",
      "--------\n"
     ]
    }
   ],
   "source": [
    "StudData(name = \"Uttam\",age=21,dob=\"1999\")"
   ]
  },
  {
   "cell_type": "code",
   "execution_count": null,
   "metadata": {},
   "outputs": [],
   "source": []
  }
 ],
 "metadata": {
  "kernelspec": {
   "display_name": "Python 3",
   "language": "python",
   "name": "python3"
  },
  "language_info": {
   "codemirror_mode": {
    "name": "ipython",
    "version": 3
   },
   "file_extension": ".py",
   "mimetype": "text/x-python",
   "name": "python",
   "nbconvert_exporter": "python",
   "pygments_lexer": "ipython3",
   "version": "3.7.4"
  }
 },
 "nbformat": 4,
 "nbformat_minor": 2
}
