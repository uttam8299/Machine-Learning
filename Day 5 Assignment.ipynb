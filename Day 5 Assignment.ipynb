{
 "cells": [
  {
   "cell_type": "markdown",
   "metadata": {},
   "source": [
    "# Question 1"
   ]
  },
  {
   "cell_type": "code",
   "execution_count": 78,
   "metadata": {},
   "outputs": [],
   "source": [
    "class bank_account():\n",
    "    balance = 0\n",
    "    def __init__(self,owner,balance):\n",
    "        self.owner = owner\n",
    "        self.balance = balance\n",
    "    def show(self):\n",
    "        print(\"Owner Name : \" , self.owner)\n",
    "        print(\"Balance : \" , self.balance)\n",
    "        \n",
    "    def deposit(self):\n",
    "        dep = float(input(\"Enter the amount to deposit : \"))\n",
    "        self.balance = self.balance + dep\n",
    "        print(\"Amount Deposited\")\n",
    "        print(\"Available Balance is : \")\n",
    "        print(self.balance)\n",
    "    def withdrawl(self):\n",
    "        wdrwl = float(input(\"Enter the amount to withdraw : \"))\n",
    "        if wdrwl <= self.balance:\n",
    "            self.balance = self.balance - wdrwl\n",
    "            print(\"Withdrawl Successful\")\n",
    "            print(\"Available Balance is\" , self.balance)\n",
    "        else:\n",
    "            print(\"Insufficient balance\")\n",
    "            print(\"Your available balance is : \",self.balance)\n",
    "    \n",
    "    "
   ]
  },
  {
   "cell_type": "code",
   "execution_count": 79,
   "metadata": {},
   "outputs": [],
   "source": [
    "bankAc = bank_account(\"Uttam\" , 14525.50)"
   ]
  },
  {
   "cell_type": "code",
   "execution_count": 80,
   "metadata": {},
   "outputs": [
    {
     "name": "stdout",
     "output_type": "stream",
     "text": [
      "Owner Name :  Uttam\n",
      "Balance :  14525.5\n"
     ]
    }
   ],
   "source": [
    "bankAc.show()"
   ]
  },
  {
   "cell_type": "code",
   "execution_count": 81,
   "metadata": {},
   "outputs": [
    {
     "name": "stdout",
     "output_type": "stream",
     "text": [
      "Enter the amount to deposit : 1500\n",
      "Amount Deposited\n",
      "Available Balance is : \n",
      "16025.5\n"
     ]
    }
   ],
   "source": [
    "bankAc.deposit()"
   ]
  },
  {
   "cell_type": "code",
   "execution_count": 82,
   "metadata": {},
   "outputs": [
    {
     "name": "stdout",
     "output_type": "stream",
     "text": [
      "Enter the amount to withdraw : 20000\n",
      "Insufficient balance\n",
      "Your available balance is :  16025.5\n"
     ]
    }
   ],
   "source": [
    "bankAc.withdrawl()"
   ]
  },
  {
   "cell_type": "code",
   "execution_count": 83,
   "metadata": {},
   "outputs": [
    {
     "name": "stdout",
     "output_type": "stream",
     "text": [
      "Enter the amount to withdraw : 5000\n",
      "Withdrawl Successful\n",
      "Available Balance is 11025.5\n"
     ]
    }
   ],
   "source": [
    "bankAc.withdrawl()"
   ]
  },
  {
   "cell_type": "markdown",
   "metadata": {},
   "source": [
    "# Question 2"
   ]
  },
  {
   "cell_type": "code",
   "execution_count": 109,
   "metadata": {},
   "outputs": [],
   "source": [
    "import math\n",
    "\n",
    "class cone():\n",
    "    R = 0.0\n",
    "    h = 0.0\n",
    "    def __init__(self,R,h):\n",
    "        self.R = R\n",
    "        self.h = h\n",
    "    def show(self):\n",
    "        print(\"Radius is : \" ,self.R)\n",
    "        print(\"Height is : \" ,self.h)\n",
    "        \n",
    "    def volume(self):\n",
    "        print(\"Volume of cone is : \" , pi*self.R*self.R*(self.h/3))\n",
    "    \n",
    "    def surfaceArea(self):\n",
    "        base = pi*self.R*self.R\n",
    "        side = pi*self.R*math.sqrt(self.R*self.R + self.h*self.h)\n",
    "        print(\"Surface Area is : \" , (base + side))\n",
    "        "
   ]
  },
  {
   "cell_type": "code",
   "execution_count": 110,
   "metadata": {},
   "outputs": [
    {
     "name": "stdout",
     "output_type": "stream",
     "text": [
      "Radius is :  10.5\n",
      "Height is :  12\n"
     ]
    }
   ],
   "source": [
    "obj = cone(10.5,12)\n",
    "obj.show()"
   ]
  },
  {
   "cell_type": "code",
   "execution_count": 111,
   "metadata": {},
   "outputs": [
    {
     "name": "stdout",
     "output_type": "stream",
     "text": [
      "Volume of cone is :  1385.442360233099\n"
     ]
    }
   ],
   "source": [
    "obj.volume()"
   ]
  },
  {
   "cell_type": "code",
   "execution_count": 112,
   "metadata": {},
   "outputs": [
    {
     "name": "stdout",
     "output_type": "stream",
     "text": [
      "Surface Area is :  872.3411009303135\n"
     ]
    }
   ],
   "source": [
    "obj.surfaceArea()"
   ]
  },
  {
   "cell_type": "code",
   "execution_count": null,
   "metadata": {},
   "outputs": [],
   "source": []
  },
  {
   "cell_type": "code",
   "execution_count": null,
   "metadata": {},
   "outputs": [],
   "source": []
  }
 ],
 "metadata": {
  "kernelspec": {
   "display_name": "Python 3",
   "language": "python",
   "name": "python3"
  },
  "language_info": {
   "codemirror_mode": {
    "name": "ipython",
    "version": 3
   },
   "file_extension": ".py",
   "mimetype": "text/x-python",
   "name": "python",
   "nbconvert_exporter": "python",
   "pygments_lexer": "ipython3",
   "version": "3.7.4"
  }
 },
 "nbformat": 4,
 "nbformat_minor": 2
}
