{
 "cells": [
  {
   "cell_type": "markdown",
   "metadata": {},
   "source": [
    "### Exception Handling using try,except and finally"
   ]
  },
  {
   "cell_type": "code",
   "execution_count": 2,
   "metadata": {},
   "outputs": [
    {
     "ename": "ZeroDivisionError",
     "evalue": "division by zero",
     "output_type": "error",
     "traceback": [
      "\u001b[1;31m---------------------------------------------------------------------------\u001b[0m",
      "\u001b[1;31mZeroDivisionError\u001b[0m                         Traceback (most recent call last)",
      "\u001b[1;32m<ipython-input-2-9e1622b385b6>\u001b[0m in \u001b[0;36m<module>\u001b[1;34m\u001b[0m\n\u001b[1;32m----> 1\u001b[1;33m \u001b[1;36m1\u001b[0m\u001b[1;33m/\u001b[0m\u001b[1;36m0\u001b[0m\u001b[1;33m\u001b[0m\u001b[1;33m\u001b[0m\u001b[0m\n\u001b[0m",
      "\u001b[1;31mZeroDivisionError\u001b[0m: division by zero"
     ]
    }
   ],
   "source": [
    "1/0"
   ]
  },
  {
   "cell_type": "code",
   "execution_count": 6,
   "metadata": {},
   "outputs": [
    {
     "name": "stdout",
     "output_type": "stream",
     "text": [
      "Error \n",
      "Runs everytime\n"
     ]
    }
   ],
   "source": [
    "try:\n",
    "    5/0\n",
    "    print(\"It is properly running\")\n",
    "except:\n",
    "    print(\"Error \")\n",
    "finally:\n",
    "    print(\"Runs everytime\")"
   ]
  },
  {
   "cell_type": "code",
   "execution_count": 17,
   "metadata": {},
   "outputs": [
    {
     "name": "stdout",
     "output_type": "stream",
     "text": [
      "The file gave us error not writable\n",
      "Hello I am learning python\n",
      "\n",
      " I am appending in a file\n"
     ]
    }
   ],
   "source": [
    "try:\n",
    "    file = open(\"FCS.txt\",'r')\n",
    "    file.write(\"ABC\")\n",
    "except Exception as e:\n",
    "    print(\"The file gave us error\" ,e)\n",
    "    print(file.read())\n",
    "    \n",
    "finally:\n",
    "    file.close()"
   ]
  },
  {
   "cell_type": "markdown",
   "metadata": {},
   "source": [
    "# Unit testing"
   ]
  },
  {
   "cell_type": "code",
   "execution_count": 18,
   "metadata": {},
   "outputs": [],
   "source": [
    "# UNIT TESTING is a level of software testing where individual units components of a software are tested"
   ]
  },
  {
   "cell_type": "code",
   "execution_count": 19,
   "metadata": {},
   "outputs": [],
   "source": [
    "# we make large programs and want them to work with atmost performance\n",
    "# we want them to work as designed nothing else\n",
    "\n",
    "# how to go about it?"
   ]
  },
  {
   "cell_type": "code",
   "execution_count": 20,
   "metadata": {},
   "outputs": [],
   "source": [
    "# Types of Unit testing \n",
    "# Pylint\n",
    "# unit test"
   ]
  },
  {
   "cell_type": "code",
   "execution_count": 22,
   "metadata": {},
   "outputs": [
    {
     "name": "stdout",
     "output_type": "stream",
     "text": [
      "Requirement already satisfied: pylint in c:\\users\\uttam yadav\\anaconda4\\lib\\site-packages (2.4.2)\n",
      "Requirement already satisfied: astroid<2.4,>=2.3.0 in c:\\users\\uttam yadav\\anaconda4\\lib\\site-packages (from pylint) (2.3.1)\n",
      "Requirement already satisfied: mccabe<0.7,>=0.6 in c:\\users\\uttam yadav\\anaconda4\\lib\\site-packages (from pylint) (0.6.1)\n",
      "Requirement already satisfied: isort<5,>=4.2.5 in c:\\users\\uttam yadav\\anaconda4\\lib\\site-packages (from pylint) (4.3.21)\n",
      "Requirement already satisfied: colorama; sys_platform == \"win32\" in c:\\users\\uttam yadav\\anaconda4\\lib\\site-packages (from pylint) (0.4.1)\n",
      "Requirement already satisfied: lazy-object-proxy==1.4.* in c:\\users\\uttam yadav\\anaconda4\\lib\\site-packages (from astroid<2.4,>=2.3.0->pylint) (1.4.2)\n",
      "Requirement already satisfied: wrapt==1.11.* in c:\\users\\uttam yadav\\anaconda4\\lib\\site-packages (from astroid<2.4,>=2.3.0->pylint) (1.11.2)\n",
      "Collecting typed-ast<1.5,>=1.4.0; implementation_name == \"cpython\" and python_version < \"3.8\" (from astroid<2.4,>=2.3.0->pylint)\n",
      "  Downloading https://files.pythonhosted.org/packages/6d/6f/c67eed763bcc095d9187c7a04fdc3ba640d1e990368acfcb1d294ff71549/typed_ast-1.4.1-cp37-cp37m-win_amd64.whl (155kB)\n",
      "Requirement already satisfied: six==1.12 in c:\\users\\uttam yadav\\anaconda4\\lib\\site-packages (from astroid<2.4,>=2.3.0->pylint) (1.12.0)\n",
      "Installing collected packages: typed-ast\n",
      "Successfully installed typed-ast-1.4.1\n"
     ]
    }
   ],
   "source": [
    "!pip install pylint"
   ]
  },
  {
   "cell_type": "code",
   "execution_count": 39,
   "metadata": {},
   "outputs": [
    {
     "name": "stdout",
     "output_type": "stream",
     "text": [
      "Overwriting ourfile.py\n"
     ]
    }
   ],
   "source": [
    "%%writefile ourfile.py\n",
    "'''\n",
    "Writing in File\n",
    "\n",
    "'''\n",
    "A = 1\n",
    "B = 2\n",
    "if A == B:\n",
    "    print(\"Both are equal\")\n",
    "else:\n",
    "    print(\"Both are unequal\")"
   ]
  },
  {
   "cell_type": "code",
   "execution_count": 40,
   "metadata": {},
   "outputs": [
    {
     "name": "stdout",
     "output_type": "stream",
     "text": [
      "\n",
      "-------------------------------------------------------------------\n",
      "\n",
      "Your code has been rated at 10.00/10 (previous run: 8.00/10, +2.00)\n",
      "\n",
      "\n",
      "\n"
     ]
    }
   ],
   "source": [
    "! pylint ourfile.py"
   ]
  },
  {
   "cell_type": "markdown",
   "metadata": {},
   "source": [
    "# Unittest Library"
   ]
  },
  {
   "cell_type": "code",
   "execution_count": 41,
   "metadata": {},
   "outputs": [],
   "source": [
    "# We want to add multiple numbers \n",
    "#if you are sending 2 numbers it should add both of them,\n",
    "#if you are sending multiple numbers it should run a for loop and get "
   ]
  },
  {
   "cell_type": "code",
   "execution_count": 79,
   "metadata": {},
   "outputs": [
    {
     "name": "stdout",
     "output_type": "stream",
     "text": [
      "Overwriting adding_multiple.py\n"
     ]
    }
   ],
   "source": [
    "%%writefile adding_multiple.py\n",
    "def addNumbers(*args):\n",
    "    '''\n",
    "    1.Send two int paramter as for additon\n",
    "    2.Send a list only witg ints to add them all\n",
    "    \n",
    "    '''\n",
    "    if len(args) == 2:\n",
    "        return args[0] + args[1]\n",
    "    elif len(args) > 2:\n",
    "        return \"Refer Doc String\"\n",
    "    else:\n",
    "        addNum = 0\n",
    "        for item in args[0]:\n",
    "            addNum = addNum + item\n",
    "        return addNum\n",
    "            \n",
    "    "
   ]
  },
  {
   "cell_type": "code",
   "execution_count": 80,
   "metadata": {},
   "outputs": [
    {
     "data": {
      "text/plain": [
       "29"
      ]
     },
     "execution_count": 80,
     "metadata": {},
     "output_type": "execute_result"
    }
   ],
   "source": [
    "addNumbers([1,25,2,1])"
   ]
  },
  {
   "cell_type": "code",
   "execution_count": 81,
   "metadata": {},
   "outputs": [
    {
     "data": {
      "text/plain": [
       "6"
      ]
     },
     "execution_count": 81,
     "metadata": {},
     "output_type": "execute_result"
    }
   ],
   "source": [
    "addNumbers([1,2,3])"
   ]
  },
  {
   "cell_type": "code",
   "execution_count": 82,
   "metadata": {},
   "outputs": [
    {
     "name": "stdout",
     "output_type": "stream",
     "text": [
      "************* Module adding_multiple\n",
      "adding_multiple.py:5:0: C0303: Trailing whitespace (trailing-whitespace)\n",
      "adding_multiple.py:16:0: C0303: Trailing whitespace (trailing-whitespace)\n",
      "adding_multiple.py:17:0: C0303: Trailing whitespace (trailing-whitespace)\n",
      "adding_multiple.py:1:0: C0114: Missing module docstring (missing-module-docstring)\n",
      "adding_multiple.py:1:0: C0103: Function name \"addNumbers\" doesn't conform to snake_case naming style (invalid-name)\n",
      "adding_multiple.py:7:4: R1705: Unnecessary \"elif\" after \"return\" (no-else-return)\n",
      "adding_multiple.py:12:8: C0103: Variable name \"addNum\" doesn't conform to snake_case naming style (invalid-name)\n",
      "adding_multiple.py:14:12: C0103: Variable name \"addNum\" doesn't conform to snake_case naming style (invalid-name)\n",
      "\n",
      "------------------------------------------------------------------\n",
      "\n",
      "Your code has been rated at 1.11/10 (previous run: 0.00/10, +1.11)\n",
      "\n",
      "\n",
      "\n"
     ]
    }
   ],
   "source": [
    "! pylint adding_multiple"
   ]
  },
  {
   "cell_type": "code",
   "execution_count": 83,
   "metadata": {},
   "outputs": [],
   "source": [
    "# Unit testing from notes"
   ]
  },
  {
   "cell_type": "code",
   "execution_count": null,
   "metadata": {},
   "outputs": [],
   "source": []
  }
 ],
 "metadata": {
  "kernelspec": {
   "display_name": "Python 3",
   "language": "python",
   "name": "python3"
  },
  "language_info": {
   "codemirror_mode": {
    "name": "ipython",
    "version": 3
   },
   "file_extension": ".py",
   "mimetype": "text/x-python",
   "name": "python",
   "nbconvert_exporter": "python",
   "pygments_lexer": "ipython3",
   "version": "3.7.4"
  }
 },
 "nbformat": 4,
 "nbformat_minor": 2
}
