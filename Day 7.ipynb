{
 "cells": [
  {
   "cell_type": "markdown",
   "metadata": {},
   "source": [
    "# Modules and Packages"
   ]
  },
  {
   "cell_type": "markdown",
   "metadata": {},
   "source": [
    "### Package is a colletion of modules and a module is just a python file"
   ]
  },
  {
   "cell_type": "code",
   "execution_count": null,
   "metadata": {},
   "outputs": [],
   "source": [
    "#Pypi contains packages of python.."
   ]
  },
  {
   "cell_type": "markdown",
   "metadata": {},
   "source": [
    "### How to make own module and Package"
   ]
  },
  {
   "cell_type": "code",
   "execution_count": null,
   "metadata": {},
   "outputs": [],
   "source": [
    "%%writefile module_one.py\n",
    "\n",
    "def print_top_ten_even():\n",
    "    for i in range(1,10):\n",
    "        if i % 2 == 0:\n",
    "            print(i)\n",
    "            \n",
    "def print_top_ten_odd():\n",
    "    for i in range(1,10):\n",
    "        if i % 2 == 1:\n",
    "            print(i)"
   ]
  },
  {
   "cell_type": "code",
   "execution_count": null,
   "metadata": {},
   "outputs": [],
   "source": [
    "# Program of ours\n",
    "\n",
    "import module_one\n",
    "\n",
    "module_one.print_top_ten_even()\n",
    "print(\" \")\n",
    "module_one.print_top_ten_odd()"
   ]
  },
  {
   "cell_type": "code",
   "execution_count": null,
   "metadata": {},
   "outputs": [],
   "source": [
    "import math\n",
    "dir(math)"
   ]
  },
  {
   "cell_type": "code",
   "execution_count": null,
   "metadata": {},
   "outputs": [],
   "source": [
    "import module_one\n",
    "dir(module_one)"
   ]
  },
  {
   "cell_type": "code",
   "execution_count": null,
   "metadata": {},
   "outputs": [],
   "source": [
    "%%writefile module_two.py\n",
    "\n",
    "'''\n",
    "Conditions this program will work on - \n",
    "\n",
    "1.There should be only one char passed in\n",
    "2.It should be either small or upper\n",
    "\n",
    "'''\n",
    "def is_vowel(char):\n",
    "    if len(char) > 1:\n",
    "        return \"One character allowed\"\n",
    "    char= char.upper()\n",
    "    if char in [\"A\",\"E\",\"I\",\"O\",\"U\"]:\n",
    "        return \"Its a vowel\"\n",
    "    else:\n",
    "        return \"Its not a vowel\""
   ]
  },
  {
   "cell_type": "code",
   "execution_count": null,
   "metadata": {},
   "outputs": [],
   "source": [
    "import module_two\n",
    "\n",
    "module_two.is_vowel(\"r\")\n",
    "module_two.is_vowel(\"e\")\n"
   ]
  },
  {
   "cell_type": "markdown",
   "metadata": {},
   "source": [
    "### How to create owr own package"
   ]
  },
  {
   "cell_type": "code",
   "execution_count": null,
   "metadata": {},
   "outputs": [],
   "source": [
    "# First make a folder\n",
    "#Then move your .py files in that folder \n",
    "# thus your package is your new package"
   ]
  },
  {
   "cell_type": "code",
   "execution_count": null,
   "metadata": {},
   "outputs": [],
   "source": [
    "from ourPackage import module_one\n",
    "\n",
    "dir(module_one)"
   ]
  },
  {
   "cell_type": "code",
   "execution_count": null,
   "metadata": {},
   "outputs": [],
   "source": [
    "from ourPackage import module_two\n",
    "\n",
    "dir(module_two)"
   ]
  },
  {
   "cell_type": "code",
   "execution_count": null,
   "metadata": {},
   "outputs": [],
   "source": [
    "module_two.is_vowel(\"g\")"
   ]
  },
  {
   "cell_type": "code",
   "execution_count": null,
   "metadata": {},
   "outputs": [],
   "source": [
    "# Unit test for module 2"
   ]
  },
  {
   "cell_type": "code",
   "execution_count": null,
   "metadata": {},
   "outputs": [],
   "source": [
    "%%writefile test_module_2.py\n",
    "\n",
    "import unittest\n",
    "from ourPackage import module_two\n",
    "\n",
    "class TestVowel(unittest.TestCase):\n",
    "    def test_one_single_letter(self):\n",
    "        char = \"u\"\n",
    "        result = module_two.is_vowel(char)\n",
    "        self.assertEqual(result,\"Its a vowel\")\n",
    "        \n",
    "    def test_one_single_letter_not_vowel(self):\n",
    "        char = \"r\"\n",
    "        result = module_two.is_vowel(char)\n",
    "        self.assertEqual(result,\"Its not a vowel\")\n",
    "        \n",
    "    def test_multiple_character(self):\n",
    "        char = \"hi\"\n",
    "        result = module_two.is_vowel(char)\n",
    "        self.assertEqual(result,\"One character allowed\")\n",
    "        \n",
    "if __name__ == '__main__':\n",
    "    unittest.main()"
   ]
  },
  {
   "cell_type": "code",
   "execution_count": null,
   "metadata": {},
   "outputs": [],
   "source": [
    "! python test_module_2.py"
   ]
  },
  {
   "cell_type": "code",
   "execution_count": null,
   "metadata": {},
   "outputs": [],
   "source": [
    "## __name__ and __main__"
   ]
  },
  {
   "cell_type": "code",
   "execution_count": null,
   "metadata": {},
   "outputs": [],
   "source": [
    "import module_two"
   ]
  },
  {
   "cell_type": "code",
   "execution_count": 1,
   "metadata": {},
   "outputs": [
    {
     "name": "stdout",
     "output_type": "stream",
     "text": [
      "Overwriting module_two.py\n"
     ]
    }
   ],
   "source": [
    "%%writefile module_two.py\n",
    "\n",
    "'''\n",
    "Conditions this program will work on - \n",
    "\n",
    "1.There should be only one char passed in\n",
    "2.It should be either small or upper\n",
    "\n",
    "'''\n",
    "def is_vowel(char):\n",
    "    if len(char) > 1:\n",
    "        return \"One character allowed\"\n",
    "    char= char.upper()\n",
    "    if char in [\"A\",\"E\",\"I\",\"O\",\"U\"]:\n",
    "        return \"Its a vowel\"\n",
    "    else:\n",
    "        return \"Its not a vowel\"\n",
    "    \n",
    "print(\"__name is printing =  \" ,__name__)"
   ]
  },
  {
   "cell_type": "code",
   "execution_count": 2,
   "metadata": {},
   "outputs": [
    {
     "name": "stdout",
     "output_type": "stream",
     "text": [
      "__name is printing =   module_two\n"
     ]
    }
   ],
   "source": [
    "import module_two"
   ]
  },
  {
   "cell_type": "markdown",
   "metadata": {},
   "source": [
    "# Decorators"
   ]
  },
  {
   "cell_type": "raw",
   "metadata": {},
   "source": [
    "#A decorator is a design pattern in Python that allows a user to #add new functionality to an existing object without modifying #its structure. Decorators are usually called before the #definition of a function you want to decorate"
   ]
  },
  {
   "cell_type": "code",
   "execution_count": null,
   "metadata": {},
   "outputs": [],
   "source": []
  }
 ],
 "metadata": {
  "kernelspec": {
   "display_name": "Python 3",
   "language": "python",
   "name": "python3"
  },
  "language_info": {
   "codemirror_mode": {
    "name": "ipython",
    "version": 3
   },
   "file_extension": ".py",
   "mimetype": "text/x-python",
   "name": "python",
   "nbconvert_exporter": "python",
   "pygments_lexer": "ipython3",
   "version": "3.7.4"
  }
 },
 "nbformat": 4,
 "nbformat_minor": 2
}
